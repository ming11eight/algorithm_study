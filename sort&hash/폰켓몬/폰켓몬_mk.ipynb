{
 "cells": [
  {
   "cell_type": "code",
   "execution_count": null,
   "metadata": {},
   "outputs": [],
   "source": [
    "# Dictonary 사용\n",
    "def solution(nums):\n",
    "    dic = {}\n",
    "    for n in (nums):\n",
    "        dic[n] = 1\n",
    "    if len(dic.keys()) >= (len(nums)/2):\n",
    "        return len(nums)/2\n",
    "    else :\n",
    "        return len(dic.keys())\n",
    "\n",
    "# Dictonary 사용x\n",
    "def solution(nums):\n",
    "    if len(set(nums)) >= (len(nums)/2):\n",
    "        return len(nums)/2\n",
    "    else :\n",
    "        return len(set(nums))"
   ]
  }
 ],
 "metadata": {
  "language_info": {
   "name": "python"
  }
 },
 "nbformat": 4,
 "nbformat_minor": 2
}
