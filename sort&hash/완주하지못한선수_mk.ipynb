{
 "cells": [
  {
   "cell_type": "code",
   "execution_count": null,
   "metadata": {},
   "outputs": [],
   "source": [
    "# dic 사용\n",
    "def solution(participant, completion):\n",
    "    hashDict={}\n",
    "    sumHash=0\n",
    "    \n",
    "    for part in participant:\n",
    "        hashDict[hash(part)]=part\n",
    "        sumHash += hash(part)\n",
    "        \n",
    "    for comp in completion:\n",
    "        sumHash -=hash(comp)\n",
    "        \n",
    "    return hashDict[sumHash]\n",
    "\n",
    "# dic 사용x\n",
    "def solution(participant, completion):\n",
    "    for comp in completion:\n",
    "        participant.remove(comp)\n",
    "    return participant[0]"
   ]
  }
 ],
 "metadata": {
  "language_info": {
   "name": "python"
  }
 },
 "nbformat": 4,
 "nbformat_minor": 2
}
